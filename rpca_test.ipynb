{
 "cells": [
  {
   "cell_type": "code",
   "execution_count": null,
   "metadata": {},
   "outputs": [],
   "source": [
    "import numpy as np\n",
    "import matplotlib.pyplot as plt\n",
    "import os\n",
    "import pickle\n",
    "\n",
    "from pcp import pcp\n",
    "from pcp import radar_pcp\n",
    "from skimage.io import imread"
   ]
  },
  {
   "cell_type": "code",
   "execution_count": null,
   "metadata": {},
   "outputs": [],
   "source": [
    "image_dir = 'RGB_images'\n",
    "bounds_file_path = 'bounds.txt'\n",
    "with open(bounds_file_path, \"rb\") as fp:   # Unpickling\n",
    "    bounds = pickle.load(fp)\n",
    "images = np.array([imread(os.path.join(image_dir, 'rgb_{}.png'.format(i)), 'gray') for i in range(len(bounds))])"
   ]
  },
  {
   "cell_type": "code",
   "execution_count": null,
   "metadata": {},
   "outputs": [],
   "source": [
    "D = images.reshape(images.shape[0], -1).T\n",
    "\n",
    "def build_M_F(shape, bounds, gamma_b, gamma_f):\n",
    "    M_F = np.zeros(shape)\n",
    "    for i in range(len(bounds)):\n",
    "        for j in range(len(bounds[i])):\n",
    "            f_l = bounds[i][j, 0]\n",
    "            f_r = bounds[i][j, 1]\n",
    "            M_F[i, f_l:f_r] = gamma_f\n",
    "    M_F[M_F != gamma_f] = gamma_b\n",
    "    return M_F.reshape(shape[0], -1).T"
   ]
  },
  {
   "cell_type": "code",
   "execution_count": null,
   "metadata": {},
   "outputs": [],
   "source": [
    "gamma_b = 1.25\n",
    "gamma_f = 0.75\n",
    "M_F = build_M_F(images.shape, bounds, gamma_b, gamma_f)"
   ]
  },
  {
   "cell_type": "code",
   "execution_count": null,
   "metadata": {
    "scrolled": true
   },
   "outputs": [],
   "source": [
    "L_pcp, S_pcp, _ = pcp(D, verbose=True, maxiter=500)\n",
    "L_radar, S_radar, _ = radar_pcp(D, M_F, verbose=True, maxiter=500)"
   ]
  },
  {
   "cell_type": "code",
   "execution_count": null,
   "metadata": {},
   "outputs": [],
   "source": [
    "i = 0\n",
    "plt.figure(figsize=(10,6))\n",
    "plt.title('Original')\n",
    "plt.imshow(images[i], 'gray')\n",
    "plt.axis('off')\n",
    "plt.figure(figsize=(15,15))\n",
    "plt.subplot(321)\n",
    "plt.title('L: PCP')\n",
    "plt.imshow(L_pcp[:, i].reshape(images.shape[1], images.shape[2]), 'gray')\n",
    "plt.axis('off')\n",
    "plt.subplot(322)\n",
    "plt.title('abs(S): PCP')\n",
    "plt.imshow(abs(S_pcp[:, i].reshape(images.shape[1], images.shape[2])), 'gray')\n",
    "plt.axis('off')\n",
    "plt.subplot(323)\n",
    "plt.title('L: Radar-PCP')\n",
    "plt.imshow(L_radar[:, i].reshape(images.shape[1], images.shape[2]), 'gray')\n",
    "plt.axis('off')\n",
    "plt.subplot(324)\n",
    "plt.title('abs(S): Radar-PCP')\n",
    "plt.imshow(abs(S_radar[:, i].reshape(images.shape[1], images.shape[2])), 'gray')\n",
    "plt.axis('off')\n",
    "plt.subplot(325)\n",
    "plt.title('Absolute BG Difference')\n",
    "plt.imshow(abs(L_radar[:, i]-L_pcp[:, i]).reshape(images.shape[1], images.shape[2]), 'hot')\n",
    "plt.colorbar()\n",
    "plt.axis('off')\n",
    "plt.subplot(326)\n",
    "plt.title('Absolute FG Difference')\n",
    "plt.imshow(abs(S_radar[:, i]-S_pcp[:, i]).reshape(images.shape[1], images.shape[2]), 'hot')\n",
    "plt.colorbar()\n",
    "plt.axis('off')"
   ]
  }
 ],
 "metadata": {
  "kernelspec": {
   "display_name": "Python 3",
   "language": "python",
   "name": "python3"
  },
  "language_info": {
   "codemirror_mode": {
    "name": "ipython",
    "version": 3
   },
   "file_extension": ".py",
   "mimetype": "text/x-python",
   "name": "python",
   "nbconvert_exporter": "python",
   "pygments_lexer": "ipython3",
   "version": "3.6.9"
  }
 },
 "nbformat": 4,
 "nbformat_minor": 4
}
